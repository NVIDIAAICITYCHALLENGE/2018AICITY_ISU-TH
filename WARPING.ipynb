{
 "cells": [
  {
   "cell_type": "markdown",
   "metadata": {
    "deletable": true,
    "editable": true
   },
   "source": [
    "# Notice:\n",
    "\n",
    "## Warping is done on each video's first frame individually.\n",
    "## To get final conversion and warpM dictionaries, repeat the following steps for each frame and record the warping function parameters, conversion results, and M matrix.\n",
    "\n",
    "### current procedure is showing warping for Loc3_6"
   ]
  },
  {
   "cell_type": "code",
   "execution_count": null,
   "metadata": {
    "collapsed": true,
    "deletable": true,
    "editable": true
   },
   "outputs": [],
   "source": [
    "import cv2\n",
    "from matplotlib import pyplot as plt\n",
    "import numpy as np\n",
    "import pickle"
   ]
  },
  {
   "cell_type": "code",
   "execution_count": null,
   "metadata": {
    "collapsed": true,
    "deletable": true,
    "editable": true
   },
   "outputs": [],
   "source": [
    "def draw_lines(img, vertices):\n",
    "    pts= np.int32([vertices])\n",
    "    cv2.polylines(img, pts, True, (0,255,0),2,8)\n",
    "\n",
    "def perspective_transforms(src, dst):\n",
    "    M = cv2.getPerspectiveTransform(src, dst)\n",
    "    Minv = cv2.getPerspectiveTransform(dst, src)\n",
    "    \n",
    "    return M, Minv\n",
    "def perspective_warp(img, M):\n",
    "    img_size = (img.shape[1], img.shape[0])\n",
    "#     img_size = (img.shape[0], img.shape[1])\n",
    "    \n",
    "    warped = cv2.warpPerspective(img, M, img_size, flags=cv2.INTER_LINEAR)\n",
    "    \n",
    "    return warped\n"
   ]
  },
  {
   "cell_type": "code",
   "execution_count": null,
   "metadata": {
    "collapsed": true,
    "deletable": true,
    "editable": true
   },
   "outputs": [],
   "source": [
    "def calc_warp_points(img_height,img_width):\n",
    "    \n",
    "    # calculator the vertices of the region of interest\n",
    "    imshape = (img_height, img_width)\n",
    "    xcenter=imshape[1]/2+x_center_adj\n",
    "\n",
    "\n",
    "    src = np.float32(\n",
    "        [(imshape[1]/2+x_bottom_adj-xoffset,imshape[0]),\n",
    "         (xcenter-xfd, yf), \n",
    "         (xcenter+xfd, yf), \n",
    "         (imshape[1]/2+x_bottom_adj+xoffset,imshape[0])])\n",
    "    \n",
    "    dst = np.float32(\n",
    "        [(imshape[1]/2+x_bottom_adj-xoffset/4,imshape[0]),\n",
    "         (imshape[1]/2+x_bottom_adj-xoffset/4,0),\n",
    "         (imshape[1]/2+x_bottom_adj+xoffset/4, 0),\n",
    "        (imshape[1]/2+x_bottom_adj+xoffset/4,imshape[0])])\n",
    "        \n",
    "    return src, dst"
   ]
  },
  {
   "cell_type": "code",
   "execution_count": null,
   "metadata": {
    "collapsed": true,
    "deletable": true,
    "editable": true
   },
   "outputs": [],
   "source": [
    "def transform_test(image):\n",
    "    \n",
    "    src, dst = calc_warp_points(image.shape[0],image.shape[1])\n",
    "    M, _ = perspective_transforms(src, dst)\n",
    "    draw_lines(image,src)\n",
    "    \n",
    "    warped = perspective_warp(image, M)\n",
    "\n",
    "    return warped"
   ]
  },
  {
   "cell_type": "code",
   "execution_count": null,
   "metadata": {
    "collapsed": true,
    "deletable": true,
    "editable": true
   },
   "outputs": [],
   "source": [
    "def get_M(one_test):\n",
    "    src, dst = calc_warp_points(one_test.shape[0],one_test.shape[1])\n",
    "    M, _ = perspective_transforms(src, dst)\n",
    "    return M"
   ]
  },
  {
   "cell_type": "code",
   "execution_count": null,
   "metadata": {
    "collapsed": false,
    "deletable": true,
    "editable": true
   },
   "outputs": [],
   "source": [
    "'''\n",
    "keep record for each video\n",
    "\n",
    "location 1_1: x_center_adj=-20, x_bottom_adj=13, xfd=90, yf=580, xoffset=380\n",
    "location 1_2: x_center_adj=-55, x_bottom_adj=-20, xfd=110, yf=400, xoffset=480\n",
    "\n",
    "\n",
    "location 2_1: x_center_adj=129, x_bottom_adj=133, xfd=84, yf=200, xoffset=525\n",
    "location 2_2: x_center_adj=-20, x_bottom_adj=27, xfd=94, yf=200, xoffset=530\n",
    "location 2_3: x_center_adj=-20, x_bottom_adj=23, xfd=94, yf=200, xoffset=532\n",
    "location 2_4: x_center_adj=6, x_bottom_adj=43, xfd=108, yf=200, xoffset=540\n",
    "location 2_5: x_center_adj=6, x_bottom_adj=43, xfd=108, yf=200, xoffset=540\n",
    "location 2_6: x_center_adj=4, x_bottom_adj=42, xfd=110, yf=200, xoffset=545\n",
    "location 2_7: x_center_adj=4, x_bottom_adj=42, xfd=110, yf=200, xoffset=545\n",
    "location 2_8: x_center_adj=4, x_bottom_adj=42, xfd=110, yf=200, xoffset=545\n",
    "\n",
    "location 3_2: x_center_adj=35, x_bottom_adj=30, xfd=150, yf=535, xoffset=600 //same for all\n",
    "\n",
    "location 4_1: x_center_adj=90, x_bottom_adj=-740, xfd=30, yf=280, xoffset=180\n",
    "location 4_2: x_center_adj=288, x_bottom_adj=-500, xfd=16, yf=180, xoffset=230\n",
    "location 4_3: x_center_adj=280, x_bottom_adj=-510, xfd=18, yf=200, xoffset=240\n",
    "'''"
   ]
  },
  {
   "cell_type": "code",
   "execution_count": null,
   "metadata": {
    "collapsed": true,
    "deletable": true,
    "editable": true
   },
   "outputs": [],
   "source": [
    "%matplotlib inline"
   ]
  },
  {
   "cell_type": "code",
   "execution_count": null,
   "metadata": {
    "collapsed": true,
    "deletable": true,
    "editable": true
   },
   "outputs": [],
   "source": [
    "path = '/Users/Tingting/Documents/AIC/data/frames/Loc3_6'"
   ]
  },
  {
   "cell_type": "code",
   "execution_count": null,
   "metadata": {
    "collapsed": true,
    "deletable": true,
    "editable": true
   },
   "outputs": [],
   "source": [
    "x_center_adj=35\n",
    "x_bottom_adj=30\n",
    "xfd=150\n",
    "yf=535\n",
    "xoffset=600"
   ]
  },
  {
   "cell_type": "code",
   "execution_count": null,
   "metadata": {
    "collapsed": false,
    "deletable": true,
    "editable": true
   },
   "outputs": [],
   "source": [
    "one_test = cv2.cvtColor(cv2.imread(path+'/image1.jpg'), cv2.COLOR_BGR2RGB)\n",
    "warped = transform_test(one_test)"
   ]
  },
  {
   "cell_type": "code",
   "execution_count": null,
   "metadata": {
    "collapsed": true,
    "deletable": true,
    "editable": true
   },
   "outputs": [],
   "source": [
    "plt.figure(figsize=(10,8))\n",
    "plt.imshow(one_test)\n",
    "plt.title('original')"
   ]
  },
  {
   "cell_type": "code",
   "execution_count": null,
   "metadata": {
    "collapsed": true,
    "deletable": true,
    "editable": true
   },
   "outputs": [],
   "source": [
    "plt.figure(figsize=(10,8))\n",
    "plt.imshow(warped)\n",
    "plt.title('warped')"
   ]
  },
  {
   "cell_type": "code",
   "execution_count": null,
   "metadata": {
    "collapsed": true,
    "deletable": true,
    "editable": true
   },
   "outputs": [],
   "source": [
    "one_test = cv2.cvtColor(cv2.imread(path+'/image1.jpg'), cv2.COLOR_BGR2RGB)"
   ]
  },
  {
   "cell_type": "code",
   "execution_count": null,
   "metadata": {
    "collapsed": true,
    "deletable": true,
    "editable": true
   },
   "outputs": [],
   "source": [
    "M32=get_M(one_test)"
   ]
  },
  {
   "cell_type": "code",
   "execution_count": null,
   "metadata": {
    "collapsed": true,
    "deletable": true,
    "editable": true
   },
   "outputs": [],
   "source": [
    "src, _ = calc_warp_points(one_test.shape[0],one_test.shape[1])"
   ]
  },
  {
   "cell_type": "code",
   "execution_count": null,
   "metadata": {
    "collapsed": false,
    "deletable": true,
    "editable": true
   },
   "outputs": [],
   "source": [
    "src"
   ]
  },
  {
   "cell_type": "code",
   "execution_count": null,
   "metadata": {
    "collapsed": true,
    "deletable": true,
    "editable": true
   },
   "outputs": [],
   "source": [
    "pts1 = np.array([[[390,1080]]], dtype=\"float32\")\n",
    "pts2 = np.array([[[636,1080]]], dtype=\"float32\")"
   ]
  },
  {
   "cell_type": "code",
   "execution_count": null,
   "metadata": {
    "collapsed": true,
    "deletable": true,
    "editable": true
   },
   "outputs": [],
   "source": [
    "m1 = cv2.perspectiveTransform(pts1, M32)\n",
    "m2 = cv2.perspectiveTransform(pts2, M32)"
   ]
  },
  {
   "cell_type": "code",
   "execution_count": null,
   "metadata": {
    "collapsed": false,
    "deletable": true,
    "editable": true
   },
   "outputs": [],
   "source": [
    "one_test = cv2.cvtColor(cv2.imread(path+'/image1.jpg'), cv2.COLOR_BGR2RGB)\n",
    "warped = perspective_warp(one_test, M32)\n",
    "\n",
    "cv2.line(one_test, (pts1[0][0][0],pts1[0][0][1]), (pts2[0][0][0],pts2[0][0][1]), (255,0,0),10)\n",
    "cv2.line(warped, (m1[0][0][0],m1[0][0][1]), (m2[0][0][0],m2[0][0][1]), (255,0,0),10)\n",
    "plt.figure(figsize=(20,10))\n",
    "plt.imshow(one_test)\n",
    "plt.figure(figsize=(20,10))\n",
    "plt.imshow(warped)"
   ]
  },
  {
   "cell_type": "code",
   "execution_count": null,
   "metadata": {
    "collapsed": false,
    "deletable": true,
    "editable": true
   },
   "outputs": [],
   "source": [
    "m2-m1"
   ]
  },
  {
   "cell_type": "code",
   "execution_count": null,
   "metadata": {
    "collapsed": true,
    "deletable": true,
    "editable": true
   },
   "outputs": [],
   "source": [
    "# record conversion information from each warping\n",
    "conversion={\n",
    "            1:{1:[190, 65, 580], 2:[240, 65, 400], 3:[240, 65, 400], 4:[240, 65, 400], 5:[240, 65, 400], \\\n",
    "               6:[240, 65, 400], 7:[240, 65, 400], 8:[240, 65, 400]},\n",
    "            2:{1:[90.8267, 65, 0], 2:[87.1698, 65, 0], 3:[87.5, 65, 0], 4:[87.5, 65, 0], 5:[87.5, 65, 0], \\\n",
    "               6:[87.3394, 65, 0], 7:[87.3394, 65, 0], 8:[87.3394, 65, 0]},\n",
    "            3:{1:[61.5, 45, 535], 2:[61.5, 45, 535], 3:[61.5, 45, 535], 4:[61.5, 45, 535], 5:[61.5, 45, 535], \\\n",
    "               6:[61.5, 45, 535]},\n",
    "            4:{1:[90, 35, 280], 2:[114, 35, 180], 3:[120, 35, 200], 4:[120, 35, 200], 5:[120, 35, 200]}\n",
    "           }\n",
    "# for 1 and 2: pixel value, speed limit\n",
    "# for 3 and 4: pixel value, speed limit, area of warp, ymin"
   ]
  },
  {
   "cell_type": "code",
   "execution_count": null,
   "metadata": {
    "collapsed": true,
    "deletable": true,
    "editable": true
   },
   "outputs": [],
   "source": [
    "# M matrix is changing everytime, so use different name to save them in the memory, then dump together\n",
    "warpM= {\n",
    "        1:{1:M11, 2:M12, 3:M12, 4:M12, 5:M12, 6:M12, 7:M12, 8:M12},\n",
    "        2:{1:M21, 2:M22, 3:M23, 4:M24, 5:M25, 6:M26, 7:M27, 8:M28},\n",
    "        3:{1:M32, 2:M32, 3:M32, 4:M32, 5:M32, 6:M32},\n",
    "        4:{1:M41, 2:M42, 3:M43, 4:M43, 5:M43}\n",
    "        }"
   ]
  },
  {
   "cell_type": "code",
   "execution_count": null,
   "metadata": {
    "collapsed": false,
    "deletable": true,
    "editable": true
   },
   "outputs": [],
   "source": [
    "with open('all_p/conversion1.p', 'w') as f:\n",
    "    pickle.dump(conversion, f)"
   ]
  },
  {
   "cell_type": "code",
   "execution_count": null,
   "metadata": {
    "collapsed": true,
    "deletable": true,
    "editable": true
   },
   "outputs": [],
   "source": [
    "with open('all_p/warpM1.p', 'w') as f:\n",
    "    pickle.dump(warpM, f)"
   ]
  },
  {
   "cell_type": "code",
   "execution_count": null,
   "metadata": {
    "collapsed": true,
    "deletable": true,
    "editable": true
   },
   "outputs": [],
   "source": []
  }
 ],
 "metadata": {
  "kernelspec": {
   "display_name": "Python 2",
   "language": "python",
   "name": "python2"
  },
  "language_info": {
   "codemirror_mode": {
    "name": "ipython",
    "version": 2
   },
   "file_extension": ".py",
   "mimetype": "text/x-python",
   "name": "python",
   "nbconvert_exporter": "python",
   "pygments_lexer": "ipython2",
   "version": "2.7.13"
  }
 },
 "nbformat": 4,
 "nbformat_minor": 2
}
